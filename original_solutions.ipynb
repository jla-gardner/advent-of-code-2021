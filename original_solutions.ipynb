{
 "cells": [
  {
   "cell_type": "code",
   "execution_count": 1,
   "metadata": {},
   "outputs": [],
   "source": [
    "include(\"util.jl\");"
   ]
  },
  {
   "cell_type": "markdown",
   "metadata": {},
   "source": [
    "## Day 1"
   ]
  },
  {
   "cell_type": "code",
   "execution_count": 2,
   "metadata": {},
   "outputs": [],
   "source": [
    "depths = getinput(1) |> split .|> int\n",
    "\n",
    "function count_ascending(arr)\n",
    "    (d′ > d for (d, d′) in zip(arr, arr[2:end])) |> sum\n",
    "end;"
   ]
  },
  {
   "cell_type": "code",
   "execution_count": 3,
   "metadata": {},
   "outputs": [
    {
     "name": "stdout",
     "output_type": "stream",
     "text": [
      "  0.095016 seconds (371.25 k allocations: 21.760 MiB, 15.82% gc time, 99.97% compilation time)\n"
     ]
    },
    {
     "data": {
      "text/plain": [
       "1532"
      ]
     },
     "metadata": {},
     "output_type": "display_data"
    }
   ],
   "source": [
    "@time count_ascending(depths)"
   ]
  },
  {
   "cell_type": "code",
   "execution_count": 4,
   "metadata": {},
   "outputs": [
    {
     "name": "stdout",
     "output_type": "stream",
     "text": [
      "  0.000007 seconds (2 allocations: 15.766 KiB)\n"
     ]
    },
    {
     "data": {
      "text/plain": [
       "1571"
      ]
     },
     "metadata": {},
     "output_type": "display_data"
    }
   ],
   "source": [
    "sums3 = (depths[i:i+2] for i ∈ 1:(length(depths)-2)) .|> sum\n",
    "@time count_ascending(sums3)"
   ]
  },
  {
   "cell_type": "markdown",
   "metadata": {},
   "source": [
    "## Day 2"
   ]
  },
  {
   "cell_type": "code",
   "execution_count": 5,
   "metadata": {},
   "outputs": [
    {
     "data": {
      "text/plain": [
       "([1832, 1172], 2147104)"
      ]
     },
     "metadata": {},
     "output_type": "display_data"
    }
   ],
   "source": [
    "dirs = Dict(\n",
    "    \"forward\" => [1, 0],\n",
    "    \"down\" => [0, 1],\n",
    "    \"up\" => [0, -1]\n",
    ")\n",
    "\n",
    "function parse_row(row)\n",
    "    dir, mag = split(row)\n",
    "    return dirs[dir] * int(mag)\n",
    "end\n",
    "\n",
    "commands = split(getinput(2), \"\\n\") .|> parse_row\n",
    "\n",
    "pos = sum(commands)\n",
    "pos, *(pos...)"
   ]
  },
  {
   "cell_type": "code",
   "execution_count": 6,
   "metadata": {},
   "outputs": [
    {
     "data": {
      "text/plain": [
       "([1832, 1116059], 2044620088)"
      ]
     },
     "metadata": {},
     "output_type": "display_data"
    }
   ],
   "source": [
    "pos = [0, 0]\n",
    "aim = 0\n",
    "\n",
    "for row in split(getinput(2), \"\\n\")\n",
    "    command, mag = split(row)\n",
    "    if command == \"forward\"\n",
    "       pos += [1, aim] * int(mag)\n",
    "    else\n",
    "        aim += (command == \"down\" ? 1 : -1) * int(mag)\n",
    "    end    \n",
    "end\n",
    "\n",
    "pos, *(pos...)"
   ]
  },
  {
   "cell_type": "markdown",
   "metadata": {},
   "source": [
    "## Day 3"
   ]
  },
  {
   "cell_type": "code",
   "execution_count": 7,
   "metadata": {},
   "outputs": [
    {
     "data": {
      "text/plain": [
       "693486"
      ]
     },
     "metadata": {},
     "output_type": "display_data"
    }
   ],
   "source": [
    "rows = getinput(3) |> split .|> collect\n",
    "mat = (hcat(rows...) .== '1')'\n",
    "N = length(rows)\n",
    "γ = mapslices(mat, dims=1) do col\n",
    "    sum(col) > N // 2\n",
    "end[:]\n",
    "ϵ = γ .== 0\n",
    "\n",
    "function base10(bitvec)\n",
    "    str = convert.(Int, bitvec) |> join\n",
    "    return parse(Int, str, base=2)\n",
    "end\n",
    "\n",
    "power = base10(γ) * base10(ϵ)"
   ]
  },
  {
   "cell_type": "code",
   "execution_count": 10,
   "metadata": {},
   "outputs": [
    {
     "data": {
      "text/plain": [
       "933"
      ]
     },
     "metadata": {},
     "output_type": "display_data"
    }
   ],
   "source": [
    "function oxygen(mat, col)\n",
    "    N = size(mat, 1)\n",
    "    most_common = sum(mat[:,col]) / N >= 0.5\n",
    "    idxs = filter(i -> mat[i, col] == most_common, 1:N)\n",
    "    return mat[idxs,:]\n",
    "end\n",
    "\n",
    "m = mat\n",
    "for i in 1:12\n",
    "    m = oxygen(m, i)\n",
    "end\n",
    "base10(m[:])"
   ]
  },
  {
   "cell_type": "code",
   "execution_count": 15,
   "metadata": {},
   "outputs": [
    {
     "data": {
      "text/plain": [
       "3622"
      ]
     },
     "metadata": {},
     "output_type": "display_data"
    }
   ],
   "source": [
    "function co2(mat, col)\n",
    "    N = size(mat, 1)\n",
    "    most_common = sum(mat[:,col]) / N >= 0.5\n",
    "    idxs = filter(i -> mat[i, col] != most_common, 1:N)\n",
    "    return mat[idxs,:]\n",
    "end\n",
    "\n",
    "m = mat\n",
    "for i in 1:12\n",
    "    if size(m, 1) == 1\n",
    "        break;\n",
    "    end\n",
    "    m = co2(m, i)\n",
    "end\n",
    "base10(m[:])"
   ]
  },
  {
   "cell_type": "code",
   "execution_count": 16,
   "metadata": {},
   "outputs": [
    {
     "data": {
      "text/plain": [
       "3379326"
      ]
     },
     "metadata": {},
     "output_type": "display_data"
    }
   ],
   "source": [
    "3622 * 933"
   ]
  },
  {
   "cell_type": "markdown",
   "metadata": {},
   "source": [
    "## Day 4"
   ]
  },
  {
   "cell_type": "code",
   "execution_count": 26,
   "metadata": {},
   "outputs": [
    {
     "data": {
      "text/plain": [
       "69579"
      ]
     },
     "metadata": {},
     "output_type": "display_data"
    }
   ],
   "source": [
    "numbers, boards... = split(getinput(4), \"\\n\\n\")\n",
    "\n",
    "numbers = split(numbers, \",\") .|> int\n",
    "\n",
    "function parse_board(b)\n",
    "    board = b |> split .|> int\n",
    "    return reshape(board, 5, 5)\n",
    "end\n",
    "boards = boards .|> parse_board\n",
    "\n",
    "board_hits = [zeros(Bool, 5, 5) for _ in 1:length(boards)]\n",
    "\n",
    "completed_row(h) = any(mapslices(sum, h, dims=1).==5)\n",
    "completed(h) = completed_row(h) || completed_row(h')\n",
    "\n",
    "\n",
    "winner = nothing\n",
    "\n",
    "for number in numbers\n",
    "    for (board, hits) in zip(boards, board_hits)\n",
    "        idx = findfirst(x -> x == number, board)\n",
    "        if idx === nothing\n",
    "            continue\n",
    "        end\n",
    "        hits[idx] = true\n",
    "        if completed(hits)\n",
    "            winner = board, hits, number\n",
    "        end\n",
    "    end\n",
    "\n",
    "    if winner !== nothing\n",
    "        break\n",
    "    end\n",
    "end\n",
    "\n",
    "board, mask, number = winner\n",
    "score = sum((mask .== 0) .* board) * number"
   ]
  },
  {
   "cell_type": "code",
   "execution_count": 27,
   "metadata": {},
   "outputs": [
    {
     "data": {
      "text/plain": [
       "14877"
      ]
     },
     "metadata": {},
     "output_type": "display_data"
    }
   ],
   "source": [
    "num = -1\n",
    "lastwinner = -1\n",
    "winners = []\n",
    "board_hits = [zeros(Bool, 5, 5) for _ in 1:length(boards)]\n",
    "\n",
    "for number in numbers\n",
    "    for (b_idx, (board, hits)) in enumerate(zip(boards, board_hits))\n",
    "        idx = findfirst(x -> x == number, board)\n",
    "        if idx === nothing\n",
    "            continue\n",
    "        end\n",
    "        hits[idx] = true\n",
    "        if completed(hits) && b_idx ∉ winners\n",
    "            push!(winners, b_idx)\n",
    "            lastwinner = b_idx\n",
    "        end\n",
    "    end\n",
    "    if length(winners) == length(boards)\n",
    "        num = number\n",
    "        break\n",
    "    end\n",
    "end\n",
    "\n",
    "board, mask = boards[lastwinner], board_hits[lastwinner]\n",
    "score = sum((mask .== 0) .* board) * num\n"
   ]
  },
  {
   "cell_type": "markdown",
   "metadata": {},
   "source": [
    "# Day 5"
   ]
  },
  {
   "cell_type": "code",
   "execution_count": 82,
   "metadata": {},
   "outputs": [
    {
     "data": {
      "text/plain": [
       "2×500 Matrix{Vector{Int64}}:\n",
       " [782, 722]  [335, 552]  [26, 154]   …  [43, 970]  [364, 689]  [646, 881]\n",
       " [782, 612]  [120, 552]  [766, 894]     [984, 29]  [364, 149]  [266, 501]"
      ]
     },
     "metadata": {},
     "output_type": "display_data"
    }
   ],
   "source": [
    "lines = getinput(5) |> spliton(\"\\n\")\n",
    "\n",
    "coords = lines .|> spliton(\" -> \")\n",
    "to_coords(x) = int.(split(x, ',')) .+ 1\n",
    "lines = reshape(vcat(coords...), 2, :) .|> to_coords"
   ]
  },
  {
   "cell_type": "code",
   "execution_count": 94,
   "metadata": {},
   "outputs": [
    {
     "data": {
      "text/plain": [
       "3990"
      ]
     },
     "metadata": {},
     "output_type": "display_data"
    }
   ],
   "source": [
    "\"\"\"\n",
    "    ordering(i, j)\n",
    "\n",
    "1 if i < j\n",
    "0 if i = j\n",
    "-1 if i > j\n",
    "\"\"\"\n",
    "ordering(i, j) = i < j ? 1 : (i == j ? 0 : -1)\n",
    "\n",
    "function displacement_unit_vector(a, b)\n",
    "    x = ordering(a[1], b[1])\n",
    "    y = ordering(a[2], b[2])\n",
    "    return [x, y]\n",
    "end\n",
    "\n",
    "function solve(vec_allowed)\n",
    "    grid = zeros(Int, 1000, 1000)\n",
    "    for (pointa, pointb) in eachcol(lines)\n",
    "        d = displacement_unit_vector(pointa, pointb)\n",
    "        if !vec_allowed(d)\n",
    "            continue\n",
    "        end\n",
    "        pointc = copy(pointa)\n",
    "        while true\n",
    "            grid[pointc...] += 1\n",
    "            pointc != pointb || break\n",
    "            pointc += d\n",
    "        end\n",
    "    end\n",
    "\n",
    "    sum(grid .> 1)\n",
    "end\n",
    "\n",
    "solve(d -> sum(abs.(d)) == 1)"
   ]
  },
  {
   "cell_type": "code",
   "execution_count": 95,
   "metadata": {},
   "outputs": [
    {
     "data": {
      "text/plain": [
       "21305"
      ]
     },
     "metadata": {},
     "output_type": "display_data"
    }
   ],
   "source": [
    "solve(d -> true)"
   ]
  },
  {
   "cell_type": "markdown",
   "metadata": {},
   "source": [
    "# Day 6"
   ]
  },
  {
   "cell_type": "code",
   "execution_count": 224,
   "metadata": {},
   "outputs": [
    {
     "data": {
      "text/plain": [
       "395627"
      ]
     },
     "metadata": {},
     "output_type": "display_data"
    }
   ],
   "source": [
    "starting = getinput(6) |> spliton(\",\") .|> int\n",
    "starting .+= 1\n",
    "ages = zeros(Int, 9)\n",
    "for age in starting\n",
    "    ages[age] += 1\n",
    "end\n",
    "\n",
    "function alive_after(starting_ages, days)\n",
    "    ages = copy(starting_ages)\n",
    "    for day in 1:days\n",
    "        new = ages[1]\n",
    "        ages = vcat(ages[2:end], [new])\n",
    "        ages[7] += new\n",
    "    end\n",
    "\n",
    "    sum(ages)\n",
    "end\n",
    "\n",
    "alive_after(ages, 80)"
   ]
  },
  {
   "cell_type": "code",
   "execution_count": 108,
   "metadata": {},
   "outputs": [
    {
     "data": {
      "text/plain": [
       "1767323539209"
      ]
     },
     "metadata": {},
     "output_type": "display_data"
    }
   ],
   "source": [
    "alive_after(ages, 256)"
   ]
  },
  {
   "cell_type": "code",
   "execution_count": 233,
   "metadata": {},
   "outputs": [
    {
     "data": {
      "text/plain": [
       "(395627, 1767323539209)"
      ]
     },
     "metadata": {},
     "output_type": "display_data"
    }
   ],
   "source": [
    "step_matrix = zeros(Int, 9, 9)\n",
    "foreach(1:8) do i; step_matrix[i, i+1] = 1; end\n",
    "step_matrix[[7,9],1] .= 1\n",
    "# step_matrix[1,9] = 1\n",
    "alive_after_imp(days) = (step_matrix^days * ages) |> sum\n",
    "alive_after_imp(80), alive_after_imp(256)"
   ]
  },
  {
   "cell_type": "markdown",
   "metadata": {},
   "source": [
    "# Day 7"
   ]
  },
  {
   "cell_type": "code",
   "execution_count": 177,
   "metadata": {},
   "outputs": [
    {
     "name": "stdout",
     "output_type": "stream",
     "text": [
      "  0.181652 seconds (400.48 k allocations: 105.023 MiB, 10.74% gc time, 80.31% compilation time)\n"
     ]
    },
    {
     "data": {
      "text/plain": [
       "345197"
      ]
     },
     "metadata": {},
     "output_type": "display_data"
    }
   ],
   "source": [
    "inp = 7 |> getinput |> spliton(\",\") .|> int\n",
    "N = maximum(inp)+1\n",
    "occupancies = zeros(Int, N)\n",
    "for i in inp\n",
    "    occupancies[i+1] += 1\n",
    "end\n",
    "\n",
    "function cost_for_distance(d, fuel_for_distance)\n",
    "    distances = (1:N) .- d .|> abs\n",
    "    fuels = distances .|> fuel_for_distance\n",
    "    return sum(fuels .* occupancies)\n",
    "end\n",
    "\n",
    "function solve(fuel_for_distance)\n",
    "    costs = 1:N .|> d -> cost_for_distance(d, fuel_for_distance)\n",
    "    return costs |> minimum\n",
    "end\n",
    "\n",
    "@time solve(n -> n)"
   ]
  },
  {
   "cell_type": "code",
   "execution_count": 185,
   "metadata": {},
   "outputs": [
    {
     "name": "stdout",
     "output_type": "stream",
     "text": [
      "  0.078429 seconds (144.21 k allocations: 8.908 MiB, 11.39% gc time, 98.99% compilation time)\n"
     ]
    },
    {
     "data": {
      "text/plain": [
       "345199"
      ]
     },
     "metadata": {},
     "output_type": "display_data"
    }
   ],
   "source": [
    "@time cost_for_distance(sort(inp)[500], n->n)"
   ]
  },
  {
   "cell_type": "code",
   "execution_count": 178,
   "metadata": {},
   "outputs": [
    {
     "name": "stdout",
     "output_type": "stream",
     "text": [
      "  0.151090 seconds (310.88 k allocations: 99.077 MiB, 18.36% gc time, 76.31% compilation time)\n"
     ]
    },
    {
     "data": {
      "text/plain": [
       "96361606"
      ]
     },
     "metadata": {},
     "output_type": "display_data"
    }
   ],
   "source": [
    "triangle(n) = convert(Int, n * (n+1) / 2)\n",
    "\n",
    "@time solve(triangle)"
   ]
  },
  {
   "cell_type": "code",
   "execution_count": 179,
   "metadata": {},
   "outputs": [
    {
     "name": "stdout",
     "output_type": "stream",
     "text": [
      "  0.076791 seconds (163.10 k allocations: 10.010 MiB, 98.78% compilation time)\n"
     ]
    },
    {
     "data": {
      "text/plain": [
       "96361606"
      ]
     },
     "metadata": {},
     "output_type": "display_data"
    }
   ],
   "source": [
    "# faster - nice proof that the minimum lies within x̄ ± 0.5\n",
    "@time begin m = sum(inp) / length(inp)\n",
    "    candidates = m ± 0.5 .|> round .|> int\n",
    "    costs = candidates .|> x -> cost_for_distance(x, triangle)\n",
    "    minimum(costs)\n",
    "end"
   ]
  },
  {
   "cell_type": "markdown",
   "metadata": {},
   "source": [
    "# Day 8"
   ]
  },
  {
   "cell_type": "code",
   "execution_count": 28,
   "metadata": {},
   "outputs": [
    {
     "data": {
      "text/plain": [
       "318"
      ]
     },
     "metadata": {},
     "output_type": "display_data"
    }
   ],
   "source": [
    "inp = 8 |> getinput |> spliton(\"\\n\") .|> replace(\" | \" => \" \") .|> split\n",
    "mat = sort.(hcat(inp...))\n",
    "outputs = mat[11:14, :]\n",
    "\n",
    "isunique(s) = length(s) ∈ [2, 3, 4, 7]\n",
    "\n",
    "sum(isunique.(outputs))"
   ]
  },
  {
   "cell_type": "code",
   "execution_count": 123,
   "metadata": {},
   "outputs": [
    {
     "data": {
      "text/plain": [
       "996280"
      ]
     },
     "metadata": {},
     "output_type": "display_data"
    }
   ],
   "source": [
    "difference(s1, s2) = [setdiff(s1, s2)...] |> String |> sort\n",
    "\n",
    "#    t\n",
    "# tl   tr\n",
    "#    m\n",
    "# bl   br\n",
    "#    b\n",
    "\n",
    "components = Dict(\n",
    "    0 => [:top, :topleft, :topright, :bottomleft, :bottomright, :bottom],\n",
    "    1 => [:topright, :bottomright],\n",
    "    2 => [:top, :topright, :middle, :bottomleft, :bottom],\n",
    "    3 => [:top, :topright, :middle, :bottomright, :bottom],\n",
    "    4 => [:topleft, :middle, :topright, :bottomright],\n",
    "    5 => [:top, :topleft, :middle, :bottomright, :bottom],\n",
    "    6 => [:top, :topleft, :middle, :bottomright, :bottom, :bottomleft],\n",
    "    7 => [:top, :topright, :bottomright],\n",
    "    8 => [:top, :topleft, :topright, :middle, :bottomright, :bottomleft ,:bottom],\n",
    "    9 => [:top, :topleft, :topright, :middle, :bottomright, :bottom],\n",
    ")\n",
    "\n",
    "function solve(example)\n",
    "    digits, outputs = example[1:10], example[11:14]\n",
    "    \n",
    "    possibles = Dict((\n",
    "        pos => \"abcdefg\" \n",
    "        for pos in (:top, :middle, :bottom, :topright, \n",
    "                    :topleft, :bottomright, :bottomleft)\n",
    "    )...)\n",
    "\n",
    "    function remove_singles()\n",
    "        changed = false\n",
    "        singles = filter(p -> length(p) == 1, collect(values(possibles)))\n",
    "        for s in singles\n",
    "            for (k, v) in possibles\n",
    "                if length(v) > 1 && occursin(s, v)\n",
    "                    possibles[k] = replace(v, s => \"\")\n",
    "                    changed = true\n",
    "                end\n",
    "            end\n",
    "        end\n",
    "        \n",
    "        !changed || remove_singles()\n",
    "    end\n",
    "\n",
    "    function only_possible(pos, vals)\n",
    "        current = possibles[pos]\n",
    "        possibles[pos] = filter(l -> l ∈ vals, current)\n",
    "        remove_singles()\n",
    "    end\n",
    "\n",
    "    one, seven, four = map([2, 3, 4]) do l \n",
    "        i = findfirst(d -> length(d) == l, digits)\n",
    "        digits[i]\n",
    "    end \n",
    "\n",
    "    zero_six_nine = digits[findall(d -> length(d) == 6, digits)]\n",
    "\n",
    "    (:topright, :bottomright) .|> p -> only_possible(p, one)\n",
    "    only_possible(:top, difference(seven, one))\n",
    "    (:topleft, :middle) .|> p -> only_possible(p, difference(four, one))\n",
    "    (:topleft, :bottomright, :bottom) .|> p -> only_possible(p, intersect(zero_six_nine...) |> join)\n",
    "\n",
    "    possibles \n",
    "\n",
    "    finals = map(0:9) do d\n",
    "        comps = components[d]\n",
    "        map(c -> possibles[c], comps) |> sort |> join\n",
    "    end\n",
    "\n",
    "    nums = map(1:4) do i\n",
    "       findfirst(x -> outputs[i] == x, finals) - 1\n",
    "    end\n",
    "\n",
    "    tobase10(nums)\n",
    "end\n",
    "\n",
    "tobase10(arr) = sum(a * 10^i for (a, i) in zip(reverse(arr), 0:length(arr)-1))\n",
    "\n",
    "solve.(eachcol(mat)) |> sum"
   ]
  },
  {
   "cell_type": "code",
   "execution_count": 139,
   "metadata": {},
   "outputs": [
    {
     "data": {
      "text/plain": [
       "Dict{Symbol, String} with 7 entries:\n",
       "  :topright    => \"04279831\"\n",
       "  :middle      => \"4562983\"\n",
       "  :bottom      => \"0562983\"\n",
       "  :top         => \"05627983\"\n",
       "  :bottomleft  => \"0628\"\n",
       "  :topleft     => \"045698\"\n",
       "  :bottomright => \"045679831\""
      ]
     },
     "metadata": {},
     "output_type": "display_data"
    }
   ],
   "source": [
    "positions = vcat(values(components)...) |> unique\n",
    "ids = Dict(p => \"\" for p in positions)\n",
    "for (num, pos_s) in components\n",
    "    foreach(pos_s) do pos\n",
    "        ids[pos] *= string(num)\n",
    "    end\n",
    "end\n",
    "# sort!.(values(ids))\n",
    "ids"
   ]
  },
  {
   "cell_type": "markdown",
   "metadata": {},
   "source": [
    "# Day 9"
   ]
  },
  {
   "cell_type": "code",
   "execution_count": 160,
   "metadata": {},
   "outputs": [
    {
     "data": {
      "text/plain": [
       "545"
      ]
     },
     "metadata": {},
     "output_type": "display_data"
    }
   ],
   "source": [
    "inp = 9 |> getinput |> split .|> spliton(\"\")\n",
    "mat = reshape(vcat(inp...), 100, :) .|> int\n",
    "padded = ones(Int, 102, 102) * 9\n",
    "padded[2:101, 2:101] = mat\n",
    "\n",
    "function low_point(m)\n",
    "    point, surroundings = m[5], m[[1,2,3,4,6,7,8,9]]\n",
    "    return all(surroundings .> point)\n",
    "end\n",
    "\n",
    "mask = zeros(Bool, 100, 100)\n",
    "for i ∈ 1:100, j ∈ 1:100\n",
    "    p = padded[i:i+2, j:j+2]\n",
    "    mask[i,j] = low_point(p)\n",
    "end\n",
    "sum(mask .* (mat.+1))"
   ]
  },
  {
   "cell_type": "code",
   "execution_count": 215,
   "metadata": {},
   "outputs": [
    {
     "data": {
      "text/plain": [
       "950600"
      ]
     },
     "metadata": {},
     "output_type": "display_data"
    }
   ],
   "source": [
    "basins = zeros(Int, size(mat)...) - int.(mat .== 9)\n",
    "sizes = Dict(0 => 0)\n",
    "\n",
    "findnextbasin() = findfirst(basins .== 0)\n",
    "\n",
    "compass = ([0, 1], [0, -1], [1, 0], [-1, 0]) .|> x -> CartesianIndex(x...)\n",
    "\n",
    "function findneighbours(idx)\n",
    "    res = []\n",
    "    for dir in compass\n",
    "        new_idx = idx + dir\n",
    "        if 0 ∈ Tuple(new_idx) || 101 ∈ Tuple(new_idx)\n",
    "            continue\n",
    "        end\n",
    "        if basins[new_idx] == 0\n",
    "            push!(res, new_idx)\n",
    "        end\n",
    "    end\n",
    "    return res\n",
    "end\n",
    "\n",
    "b_id = 1\n",
    "while findnextbasin() !== nothing\n",
    "    b_members = []\n",
    "    b_frontier = Set()\n",
    "    push!(b_frontier, findnextbasin())\n",
    "\n",
    "    while length(b_frontier) > 0\n",
    "        # @show b_frontier\n",
    "        new_member = pop!(b_frontier)\n",
    "        basins[new_member] = b_id\n",
    "        push!(b_members, new_member)\n",
    "        neighbours = [n for n in findneighbours(new_member) if n ∉ b_members]\n",
    "        if length(neighbours) > 0\n",
    "            push!(b_frontier, neighbours...)\n",
    "        end\n",
    "    end\n",
    "\n",
    "    sizes[b_id] = length(b_members)\n",
    "    b_id += 1 \n",
    "end\n",
    "\n",
    "all_sizes = sort(values(sizes) |> collect)\n",
    "*(all_sizes[end-2:end]...)"
   ]
  },
  {
   "cell_type": "code",
   "execution_count": 214,
   "metadata": {},
   "outputs": [
    {
     "data": {
      "text/plain": [
       "950600"
      ]
     },
     "metadata": {},
     "output_type": "display_data"
    }
   ],
   "source": []
  },
  {
   "cell_type": "code",
   "execution_count": 186,
   "metadata": {},
   "outputs": [
    {
     "data": {
      "text/plain": [
       "1-element Vector{Any}:\n",
       " CartesianIndex(3, 1)"
      ]
     },
     "metadata": {},
     "output_type": "display_data"
    }
   ],
   "source": [
    "b_frontier"
   ]
  },
  {
   "cell_type": "markdown",
   "metadata": {},
   "source": [
    "# Day 10"
   ]
  },
  {
   "cell_type": "code",
   "execution_count": 16,
   "metadata": {},
   "outputs": [
    {
     "data": {
      "text/plain": [
       "process (generic function with 1 method)"
      ]
     },
     "metadata": {},
     "output_type": "display_data"
    }
   ],
   "source": [
    "closing = \">< }{ ][ )(\" |> split |> Dict\n",
    "\n",
    "function process(incomplete, corrupted)\n",
    "    return function(line)\n",
    "        stack = []\n",
    "        for char in line\n",
    "            if char ∉ keys(closing)\n",
    "                push!(stack, char)\n",
    "            else\n",
    "                other = pop!(stack)\n",
    "                closing[char] == other || return corrupted(char)\n",
    "            end\n",
    "        end\n",
    "        return incomplete(stack)\n",
    "    end \n",
    "end"
   ]
  },
  {
   "cell_type": "code",
   "execution_count": 17,
   "metadata": {},
   "outputs": [
    {
     "data": {
      "text/plain": [
       "166191"
      ]
     },
     "metadata": {},
     "output_type": "display_data"
    }
   ],
   "source": [
    "_scores = Dict(\n",
    "    '>' => 25137,\n",
    "    '}' => 1197,\n",
    "    ']' => 57,\n",
    "    ')' => 3\n",
    ")\n",
    "getscore = process(x -> 0, x -> _scores[x])\n",
    "\n",
    "10 |> getinput |> spliton(\"\\n\") .|> getscore |> sum"
   ]
  },
  {
   "cell_type": "code",
   "execution_count": 49,
   "metadata": {},
   "outputs": [
    {
     "data": {
      "text/plain": [
       "1152088313"
      ]
     },
     "metadata": {},
     "output_type": "display_data"
    }
   ],
   "source": [
    "iscorrupted = process(x -> false, x -> true)\n",
    "\n",
    "_scores = Dict(\n",
    "    '>' => 4,\n",
    "    '}' => 3,\n",
    "    ']' => 2,\n",
    "    ')' => 1\n",
    ")\n",
    "\n",
    "opening = Dict(value => key for (key, value) in closing)\n",
    "\n",
    "function completion_score(str)\n",
    "    score = 0\n",
    "    for char in str\n",
    "        score *= 5\n",
    "        score += _scores[char]\n",
    "    end\n",
    "    score\n",
    "end\n",
    "\n",
    "function completion_string(stack)\n",
    "    map(x -> opening[x], reverse(stack))\n",
    "end\n",
    "\n",
    "\n",
    "all_lines = 10 |> getinput |> spliton(\"\\n\") \n",
    "\n",
    "getscore = process(\n",
    "    x -> x |> completion_string |> completion_score,\n",
    "    x -> 0\n",
    ")\n",
    "\n",
    "all_scores = all_lines .|> getscore \n",
    "filter!(x -> x != 0, all_scores)\n",
    "sort(all_scores)[round(Int, end/2)]"
   ]
  }
 ],
 "metadata": {
  "kernelspec": {
   "display_name": "Julia 1.6.3",
   "language": "julia",
   "name": "julia-1.6"
  },
  "language_info": {
   "file_extension": ".jl",
   "mimetype": "application/julia",
   "name": "julia",
   "version": "1.6.3"
  },
  "orig_nbformat": 4
 },
 "nbformat": 4,
 "nbformat_minor": 2
}
