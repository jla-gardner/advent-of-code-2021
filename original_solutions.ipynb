{
 "cells": [
  {
   "cell_type": "code",
   "execution_count": 160,
   "metadata": {},
   "outputs": [],
   "source": [
    "include(\"util.jl\");"
   ]
  },
  {
   "cell_type": "markdown",
   "metadata": {},
   "source": [
    "## Day 1"
   ]
  },
  {
   "cell_type": "code",
   "execution_count": 2,
   "metadata": {},
   "outputs": [],
   "source": [
    "depths = getinput(1) |> split .|> int\n",
    "\n",
    "function count_ascending(arr)\n",
    "    (d′ > d for (d, d′) in zip(arr, arr[2:end])) |> sum\n",
    "end;"
   ]
  },
  {
   "cell_type": "code",
   "execution_count": 3,
   "metadata": {},
   "outputs": [
    {
     "name": "stdout",
     "output_type": "stream",
     "text": [
      "  0.095016 seconds (371.25 k allocations: 21.760 MiB, 15.82% gc time, 99.97% compilation time)\n"
     ]
    },
    {
     "data": {
      "text/plain": [
       "1532"
      ]
     },
     "metadata": {},
     "output_type": "display_data"
    }
   ],
   "source": [
    "@time count_ascending(depths)"
   ]
  },
  {
   "cell_type": "code",
   "execution_count": 4,
   "metadata": {},
   "outputs": [
    {
     "name": "stdout",
     "output_type": "stream",
     "text": [
      "  0.000007 seconds (2 allocations: 15.766 KiB)\n"
     ]
    },
    {
     "data": {
      "text/plain": [
       "1571"
      ]
     },
     "metadata": {},
     "output_type": "display_data"
    }
   ],
   "source": [
    "sums3 = (depths[i:i+2] for i ∈ 1:(length(depths)-2)) .|> sum\n",
    "@time count_ascending(sums3)"
   ]
  },
  {
   "cell_type": "markdown",
   "metadata": {},
   "source": [
    "## Day 2"
   ]
  },
  {
   "cell_type": "code",
   "execution_count": 5,
   "metadata": {},
   "outputs": [
    {
     "data": {
      "text/plain": [
       "([1832, 1172], 2147104)"
      ]
     },
     "metadata": {},
     "output_type": "display_data"
    }
   ],
   "source": [
    "dirs = Dict(\n",
    "    \"forward\" => [1, 0],\n",
    "    \"down\" => [0, 1],\n",
    "    \"up\" => [0, -1]\n",
    ")\n",
    "\n",
    "function parse_row(row)\n",
    "    dir, mag = split(row)\n",
    "    return dirs[dir] * int(mag)\n",
    "end\n",
    "\n",
    "commands = split(getinput(2), \"\\n\") .|> parse_row\n",
    "\n",
    "pos = sum(commands)\n",
    "pos, *(pos...)"
   ]
  },
  {
   "cell_type": "code",
   "execution_count": 6,
   "metadata": {},
   "outputs": [
    {
     "data": {
      "text/plain": [
       "([1832, 1116059], 2044620088)"
      ]
     },
     "metadata": {},
     "output_type": "display_data"
    }
   ],
   "source": [
    "pos = [0, 0]\n",
    "aim = 0\n",
    "\n",
    "for row in split(getinput(2), \"\\n\")\n",
    "    command, mag = split(row)\n",
    "    if command == \"forward\"\n",
    "       pos += [1, aim] * int(mag)\n",
    "    else\n",
    "        aim += (command == \"down\" ? 1 : -1) * int(mag)\n",
    "    end    \n",
    "end\n",
    "\n",
    "pos, *(pos...)"
   ]
  },
  {
   "cell_type": "markdown",
   "metadata": {},
   "source": [
    "## Day 3"
   ]
  },
  {
   "cell_type": "code",
   "execution_count": 7,
   "metadata": {},
   "outputs": [
    {
     "data": {
      "text/plain": [
       "693486"
      ]
     },
     "metadata": {},
     "output_type": "display_data"
    }
   ],
   "source": [
    "rows = getinput(3) |> split .|> collect\n",
    "mat = (hcat(rows...) .== '1')'\n",
    "N = length(rows)\n",
    "γ = mapslices(mat, dims=1) do col\n",
    "    sum(col) > N // 2\n",
    "end[:]\n",
    "ϵ = γ .== 0\n",
    "\n",
    "function base10(bitvec)\n",
    "    str = convert.(Int, bitvec) |> join\n",
    "    return parse(Int, str, base=2)\n",
    "end\n",
    "\n",
    "power = base10(γ) * base10(ϵ)"
   ]
  },
  {
   "cell_type": "code",
   "execution_count": 10,
   "metadata": {},
   "outputs": [
    {
     "data": {
      "text/plain": [
       "933"
      ]
     },
     "metadata": {},
     "output_type": "display_data"
    }
   ],
   "source": [
    "function oxygen(mat, col)\n",
    "    N = size(mat, 1)\n",
    "    most_common = sum(mat[:,col]) / N >= 0.5\n",
    "    idxs = filter(i -> mat[i, col] == most_common, 1:N)\n",
    "    return mat[idxs,:]\n",
    "end\n",
    "\n",
    "m = mat\n",
    "for i in 1:12\n",
    "    m = oxygen(m, i)\n",
    "end\n",
    "base10(m[:])"
   ]
  },
  {
   "cell_type": "code",
   "execution_count": 15,
   "metadata": {},
   "outputs": [
    {
     "data": {
      "text/plain": [
       "3622"
      ]
     },
     "metadata": {},
     "output_type": "display_data"
    }
   ],
   "source": [
    "function co2(mat, col)\n",
    "    N = size(mat, 1)\n",
    "    most_common = sum(mat[:,col]) / N >= 0.5\n",
    "    idxs = filter(i -> mat[i, col] != most_common, 1:N)\n",
    "    return mat[idxs,:]\n",
    "end\n",
    "\n",
    "m = mat\n",
    "for i in 1:12\n",
    "    if size(m, 1) == 1\n",
    "        break;\n",
    "    end\n",
    "    m = co2(m, i)\n",
    "end\n",
    "base10(m[:])"
   ]
  },
  {
   "cell_type": "code",
   "execution_count": 16,
   "metadata": {},
   "outputs": [
    {
     "data": {
      "text/plain": [
       "3379326"
      ]
     },
     "metadata": {},
     "output_type": "display_data"
    }
   ],
   "source": [
    "3622 * 933"
   ]
  },
  {
   "cell_type": "markdown",
   "metadata": {},
   "source": [
    "## Day 4"
   ]
  },
  {
   "cell_type": "code",
   "execution_count": 26,
   "metadata": {},
   "outputs": [
    {
     "data": {
      "text/plain": [
       "69579"
      ]
     },
     "metadata": {},
     "output_type": "display_data"
    }
   ],
   "source": [
    "numbers, boards... = split(getinput(4), \"\\n\\n\")\n",
    "\n",
    "numbers = split(numbers, \",\") .|> int\n",
    "\n",
    "function parse_board(b)\n",
    "    board = b |> split .|> int\n",
    "    return reshape(board, 5, 5)\n",
    "end\n",
    "boards = boards .|> parse_board\n",
    "\n",
    "board_hits = [zeros(Bool, 5, 5) for _ in 1:length(boards)]\n",
    "\n",
    "completed_row(h) = any(mapslices(sum, h, dims=1).==5)\n",
    "completed(h) = completed_row(h) || completed_row(h')\n",
    "\n",
    "\n",
    "winner = nothing\n",
    "\n",
    "for number in numbers\n",
    "    for (board, hits) in zip(boards, board_hits)\n",
    "        idx = findfirst(x -> x == number, board)\n",
    "        if idx === nothing\n",
    "            continue\n",
    "        end\n",
    "        hits[idx] = true\n",
    "        if completed(hits)\n",
    "            winner = board, hits, number\n",
    "        end\n",
    "    end\n",
    "\n",
    "    if winner !== nothing\n",
    "        break\n",
    "    end\n",
    "end\n",
    "\n",
    "board, mask, number = winner\n",
    "score = sum((mask .== 0) .* board) * number"
   ]
  },
  {
   "cell_type": "code",
   "execution_count": 27,
   "metadata": {},
   "outputs": [
    {
     "data": {
      "text/plain": [
       "14877"
      ]
     },
     "metadata": {},
     "output_type": "display_data"
    }
   ],
   "source": [
    "num = -1\n",
    "lastwinner = -1\n",
    "winners = []\n",
    "board_hits = [zeros(Bool, 5, 5) for _ in 1:length(boards)]\n",
    "\n",
    "for number in numbers\n",
    "    for (b_idx, (board, hits)) in enumerate(zip(boards, board_hits))\n",
    "        idx = findfirst(x -> x == number, board)\n",
    "        if idx === nothing\n",
    "            continue\n",
    "        end\n",
    "        hits[idx] = true\n",
    "        if completed(hits) && b_idx ∉ winners\n",
    "            push!(winners, b_idx)\n",
    "            lastwinner = b_idx\n",
    "        end\n",
    "    end\n",
    "    if length(winners) == length(boards)\n",
    "        num = number\n",
    "        break\n",
    "    end\n",
    "end\n",
    "\n",
    "board, mask = boards[lastwinner], board_hits[lastwinner]\n",
    "score = sum((mask .== 0) .* board) * num\n"
   ]
  },
  {
   "cell_type": "markdown",
   "metadata": {},
   "source": [
    "# Day 5"
   ]
  },
  {
   "cell_type": "code",
   "execution_count": 82,
   "metadata": {},
   "outputs": [
    {
     "data": {
      "text/plain": [
       "2×500 Matrix{Vector{Int64}}:\n",
       " [782, 722]  [335, 552]  [26, 154]   …  [43, 970]  [364, 689]  [646, 881]\n",
       " [782, 612]  [120, 552]  [766, 894]     [984, 29]  [364, 149]  [266, 501]"
      ]
     },
     "metadata": {},
     "output_type": "display_data"
    }
   ],
   "source": [
    "lines = getinput(5) |> spliton(\"\\n\")\n",
    "\n",
    "coords = lines .|> spliton(\" -> \")\n",
    "to_coords(x) = int.(split(x, ',')) .+ 1\n",
    "lines = reshape(vcat(coords...), 2, :) .|> to_coords"
   ]
  },
  {
   "cell_type": "code",
   "execution_count": 94,
   "metadata": {},
   "outputs": [
    {
     "data": {
      "text/plain": [
       "3990"
      ]
     },
     "metadata": {},
     "output_type": "display_data"
    }
   ],
   "source": [
    "\"\"\"\n",
    "    ordering(i, j)\n",
    "\n",
    "1 if i < j\n",
    "0 if i = j\n",
    "-1 if i > j\n",
    "\"\"\"\n",
    "ordering(i, j) = i < j ? 1 : (i == j ? 0 : -1)\n",
    "\n",
    "function displacement_unit_vector(a, b)\n",
    "    x = ordering(a[1], b[1])\n",
    "    y = ordering(a[2], b[2])\n",
    "    return [x, y]\n",
    "end\n",
    "\n",
    "function solve(vec_allowed)\n",
    "    grid = zeros(Int, 1000, 1000)\n",
    "    for (pointa, pointb) in eachcol(lines)\n",
    "        d = displacement_unit_vector(pointa, pointb)\n",
    "        if !vec_allowed(d)\n",
    "            continue\n",
    "        end\n",
    "        pointc = copy(pointa)\n",
    "        while true\n",
    "            grid[pointc...] += 1\n",
    "            pointc != pointb || break\n",
    "            pointc += d\n",
    "        end\n",
    "    end\n",
    "\n",
    "    sum(grid .> 1)\n",
    "end\n",
    "\n",
    "solve(d -> sum(abs.(d)) == 1)"
   ]
  },
  {
   "cell_type": "code",
   "execution_count": 95,
   "metadata": {},
   "outputs": [
    {
     "data": {
      "text/plain": [
       "21305"
      ]
     },
     "metadata": {},
     "output_type": "display_data"
    }
   ],
   "source": [
    "solve(d -> true)"
   ]
  },
  {
   "cell_type": "markdown",
   "metadata": {},
   "source": [
    "# Day 6"
   ]
  },
  {
   "cell_type": "code",
   "execution_count": 107,
   "metadata": {},
   "outputs": [
    {
     "data": {
      "text/plain": [
       "395627"
      ]
     },
     "metadata": {},
     "output_type": "display_data"
    }
   ],
   "source": [
    "starting = getinput(6) |> spliton(\",\") .|> int\n",
    "starting .+= 1\n",
    "ages = zeros(Int, 9)\n",
    "for age in starting\n",
    "    ages[age] += 1\n",
    "end\n",
    "\n",
    "function alive_after(starting_ages, days)\n",
    "    ages = copy(starting_ages)\n",
    "    for day in 1:days\n",
    "        new = ages[1]\n",
    "        ages = vcat(ages[2:end], [new])\n",
    "        ages[7] += new\n",
    "    end\n",
    "\n",
    "    sum(ages)\n",
    "end\n",
    "\n",
    "alive_after(ages, 80)"
   ]
  },
  {
   "cell_type": "code",
   "execution_count": 108,
   "metadata": {},
   "outputs": [
    {
     "data": {
      "text/plain": [
       "1767323539209"
      ]
     },
     "metadata": {},
     "output_type": "display_data"
    }
   ],
   "source": [
    "alive_after(ages, 256)"
   ]
  },
  {
   "cell_type": "markdown",
   "metadata": {},
   "source": [
    "# Day 7"
   ]
  },
  {
   "cell_type": "code",
   "execution_count": 177,
   "metadata": {},
   "outputs": [
    {
     "name": "stdout",
     "output_type": "stream",
     "text": [
      "  0.181652 seconds (400.48 k allocations: 105.023 MiB, 10.74% gc time, 80.31% compilation time)\n"
     ]
    },
    {
     "data": {
      "text/plain": [
       "345197"
      ]
     },
     "metadata": {},
     "output_type": "display_data"
    }
   ],
   "source": [
    "inp = 7 |> getinput |> spliton(\",\") .|> int\n",
    "N = maximum(inp)+1\n",
    "occupancies = zeros(Int, N)\n",
    "for i in inp\n",
    "    occupancies[i+1] += 1\n",
    "end\n",
    "\n",
    "function cost_for_distance(d, fuel_for_distance)\n",
    "    distances = (1:N) .- d .|> abs\n",
    "    fuels = distances .|> fuel_for_distance\n",
    "    return sum(fuels .* occupancies)\n",
    "end\n",
    "\n",
    "function solve(fuel_for_distance)\n",
    "    costs = 1:N .|> d -> cost_for_distance(d, fuel_for_distance)\n",
    "    return costs |> minimum\n",
    "end\n",
    "\n",
    "@time solve(n -> n)"
   ]
  },
  {
   "cell_type": "code",
   "execution_count": 185,
   "metadata": {},
   "outputs": [
    {
     "name": "stdout",
     "output_type": "stream",
     "text": [
      "  0.078429 seconds (144.21 k allocations: 8.908 MiB, 11.39% gc time, 98.99% compilation time)\n"
     ]
    },
    {
     "data": {
      "text/plain": [
       "345199"
      ]
     },
     "metadata": {},
     "output_type": "display_data"
    }
   ],
   "source": [
    "@time cost_for_distance(sort(inp)[500], n->n)"
   ]
  },
  {
   "cell_type": "code",
   "execution_count": 178,
   "metadata": {},
   "outputs": [
    {
     "name": "stdout",
     "output_type": "stream",
     "text": [
      "  0.151090 seconds (310.88 k allocations: 99.077 MiB, 18.36% gc time, 76.31% compilation time)\n"
     ]
    },
    {
     "data": {
      "text/plain": [
       "96361606"
      ]
     },
     "metadata": {},
     "output_type": "display_data"
    }
   ],
   "source": [
    "triangle(n) = convert(Int, n * (n+1) / 2)\n",
    "\n",
    "@time solve(triangle)"
   ]
  },
  {
   "cell_type": "code",
   "execution_count": 179,
   "metadata": {},
   "outputs": [
    {
     "name": "stdout",
     "output_type": "stream",
     "text": [
      "  0.076791 seconds (163.10 k allocations: 10.010 MiB, 98.78% compilation time)\n"
     ]
    },
    {
     "data": {
      "text/plain": [
       "96361606"
      ]
     },
     "metadata": {},
     "output_type": "display_data"
    }
   ],
   "source": [
    "# faster - nice proof that the minimum lies within x̄ ± 0.5\n",
    "@time begin m = sum(inp) / length(inp)\n",
    "    candidates = m ± 0.5 .|> round .|> int\n",
    "    costs = candidates .|> x -> cost_for_distance(x, triangle)\n",
    "    minimum(costs)\n",
    "end"
   ]
  }
 ],
 "metadata": {
  "kernelspec": {
   "display_name": "Julia 1.6.3",
   "language": "julia",
   "name": "julia-1.6"
  },
  "language_info": {
   "file_extension": ".jl",
   "mimetype": "application/julia",
   "name": "julia",
   "version": "1.6.3"
  },
  "orig_nbformat": 4
 },
 "nbformat": 4,
 "nbformat_minor": 2
}
