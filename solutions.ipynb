{
 "cells": [
  {
   "cell_type": "code",
   "execution_count": 1,
   "metadata": {},
   "outputs": [],
   "source": [
    "include(\"util.jl\");"
   ]
  },
  {
   "cell_type": "markdown",
   "metadata": {},
   "source": [
    "## Day 1"
   ]
  },
  {
   "cell_type": "code",
   "execution_count": 2,
   "metadata": {},
   "outputs": [],
   "source": [
    "depths = getinput(1) |> split .|> int\n",
    "\n",
    "function count_ascending(arr)\n",
    "    (d′ > d for (d, d′) in zip(arr, arr[2:end])) |> sum\n",
    "end;"
   ]
  },
  {
   "cell_type": "code",
   "execution_count": 3,
   "metadata": {},
   "outputs": [
    {
     "name": "stdout",
     "output_type": "stream",
     "text": [
      "  0.095016 seconds (371.25 k allocations: 21.760 MiB, 15.82% gc time, 99.97% compilation time)\n"
     ]
    },
    {
     "data": {
      "text/plain": [
       "1532"
      ]
     },
     "metadata": {},
     "output_type": "display_data"
    }
   ],
   "source": [
    "@time count_ascending(depths)"
   ]
  },
  {
   "cell_type": "code",
   "execution_count": 4,
   "metadata": {},
   "outputs": [
    {
     "name": "stdout",
     "output_type": "stream",
     "text": [
      "  0.000007 seconds (2 allocations: 15.766 KiB)\n"
     ]
    },
    {
     "data": {
      "text/plain": [
       "1571"
      ]
     },
     "metadata": {},
     "output_type": "display_data"
    }
   ],
   "source": [
    "sums3 = (depths[i:i+2] for i ∈ 1:(length(depths)-2)) .|> sum\n",
    "@time count_ascending(sums3)"
   ]
  },
  {
   "cell_type": "markdown",
   "metadata": {},
   "source": [
    "## Day 2"
   ]
  },
  {
   "cell_type": "code",
   "execution_count": 5,
   "metadata": {},
   "outputs": [
    {
     "data": {
      "text/plain": [
       "([1832, 1172], 2147104)"
      ]
     },
     "metadata": {},
     "output_type": "display_data"
    }
   ],
   "source": [
    "dirs = Dict(\n",
    "    \"forward\" => [1, 0],\n",
    "    \"down\" => [0, 1],\n",
    "    \"up\" => [0, -1]\n",
    ")\n",
    "\n",
    "function parse_row(row)\n",
    "    dir, mag = split(row)\n",
    "    return dirs[dir] * int(mag)\n",
    "end\n",
    "\n",
    "commands = split(getinput(2), \"\\n\") .|> parse_row\n",
    "\n",
    "pos = sum(commands)\n",
    "pos, *(pos...)"
   ]
  },
  {
   "cell_type": "code",
   "execution_count": 6,
   "metadata": {},
   "outputs": [
    {
     "data": {
      "text/plain": [
       "([1832, 1116059], 2044620088)"
      ]
     },
     "metadata": {},
     "output_type": "display_data"
    }
   ],
   "source": [
    "pos = [0, 0]\n",
    "aim = 0\n",
    "\n",
    "for row in split(getinput(2), \"\\n\")\n",
    "    command, mag = split(row)\n",
    "    if command == \"forward\"\n",
    "       pos += [1, aim] * int(mag)\n",
    "    else\n",
    "        aim += (command == \"down\" ? 1 : -1) * int(mag)\n",
    "    end    \n",
    "end\n",
    "\n",
    "pos, *(pos...)"
   ]
  },
  {
   "cell_type": "markdown",
   "metadata": {},
   "source": [
    "## Day 3"
   ]
  },
  {
   "cell_type": "code",
   "execution_count": 7,
   "metadata": {},
   "outputs": [
    {
     "data": {
      "text/plain": [
       "693486"
      ]
     },
     "metadata": {},
     "output_type": "display_data"
    }
   ],
   "source": [
    "rows = getinput(3) |> split .|> collect\n",
    "mat = (hcat(rows...) .== '1')'\n",
    "N = length(rows)\n",
    "γ = mapslices(mat, dims=1) do col\n",
    "    sum(col) > N // 2\n",
    "end[:]\n",
    "ϵ = γ .== 0\n",
    "\n",
    "function base10(bitvec)\n",
    "    str = convert.(Int, bitvec) |> join\n",
    "    return parse(Int, str, base=2)\n",
    "end\n",
    "\n",
    "power = base10(γ) * base10(ϵ)"
   ]
  },
  {
   "cell_type": "code",
   "execution_count": 10,
   "metadata": {},
   "outputs": [
    {
     "data": {
      "text/plain": [
       "933"
      ]
     },
     "metadata": {},
     "output_type": "display_data"
    }
   ],
   "source": [
    "function oxygen(mat, col)\n",
    "    N = size(mat, 1)\n",
    "    most_common = sum(mat[:,col]) / N >= 0.5\n",
    "    idxs = filter(i -> mat[i, col] == most_common, 1:N)\n",
    "    return mat[idxs,:]\n",
    "end\n",
    "\n",
    "m = mat\n",
    "for i in 1:12\n",
    "    m = oxygen(m, i)\n",
    "end\n",
    "base10(m[:])"
   ]
  },
  {
   "cell_type": "code",
   "execution_count": 15,
   "metadata": {},
   "outputs": [
    {
     "data": {
      "text/plain": [
       "3622"
      ]
     },
     "metadata": {},
     "output_type": "display_data"
    }
   ],
   "source": [
    "function co2(mat, col)\n",
    "    N = size(mat, 1)\n",
    "    most_common = sum(mat[:,col]) / N >= 0.5\n",
    "    idxs = filter(i -> mat[i, col] != most_common, 1:N)\n",
    "    return mat[idxs,:]\n",
    "end\n",
    "\n",
    "m = mat\n",
    "for i in 1:12\n",
    "    if size(m, 1) == 1\n",
    "        break;\n",
    "    end\n",
    "    m = co2(m, i)\n",
    "end\n",
    "base10(m[:])"
   ]
  },
  {
   "cell_type": "code",
   "execution_count": 16,
   "metadata": {},
   "outputs": [
    {
     "data": {
      "text/plain": [
       "3379326"
      ]
     },
     "metadata": {},
     "output_type": "display_data"
    }
   ],
   "source": [
    "3622 * 933"
   ]
  },
  {
   "cell_type": "markdown",
   "metadata": {},
   "source": [
    "## Day 4"
   ]
  },
  {
   "cell_type": "code",
   "execution_count": 26,
   "metadata": {},
   "outputs": [
    {
     "data": {
      "text/plain": [
       "69579"
      ]
     },
     "metadata": {},
     "output_type": "display_data"
    }
   ],
   "source": [
    "numbers, boards... = split(getinput(4), \"\\n\\n\")\n",
    "\n",
    "numbers = split(numbers, \",\") .|> int\n",
    "\n",
    "function parse_board(b)\n",
    "    board = b |> split .|> int\n",
    "    return reshape(board, 5, 5)\n",
    "end\n",
    "boards = boards .|> parse_board\n",
    "\n",
    "board_hits = [zeros(Bool, 5, 5) for _ in 1:length(boards)]\n",
    "\n",
    "completed_row(h) = any(mapslices(sum, h, dims=1).==5)\n",
    "completed(h) = completed_row(h) || completed_row(h')\n",
    "\n",
    "\n",
    "winner = nothing\n",
    "\n",
    "for number in numbers\n",
    "    for (board, hits) in zip(boards, board_hits)\n",
    "        idx = findfirst(x -> x == number, board)\n",
    "        if idx === nothing\n",
    "            continue\n",
    "        end\n",
    "        hits[idx] = true\n",
    "        if completed(hits)\n",
    "            winner = board, hits, number\n",
    "        end\n",
    "    end\n",
    "\n",
    "    if winner !== nothing\n",
    "        break\n",
    "    end\n",
    "end\n",
    "\n",
    "board, mask, number = winner\n",
    "score = sum((mask .== 0) .* board) * number"
   ]
  },
  {
   "cell_type": "code",
   "execution_count": 27,
   "metadata": {},
   "outputs": [
    {
     "data": {
      "text/plain": [
       "14877"
      ]
     },
     "metadata": {},
     "output_type": "display_data"
    }
   ],
   "source": [
    "num = -1\n",
    "lastwinner = -1\n",
    "winners = []\n",
    "board_hits = [zeros(Bool, 5, 5) for _ in 1:length(boards)]\n",
    "\n",
    "for number in numbers\n",
    "    for (b_idx, (board, hits)) in enumerate(zip(boards, board_hits))\n",
    "        idx = findfirst(x -> x == number, board)\n",
    "        if idx === nothing\n",
    "            continue\n",
    "        end\n",
    "        hits[idx] = true\n",
    "        if completed(hits) && b_idx ∉ winners\n",
    "            push!(winners, b_idx)\n",
    "            lastwinner = b_idx\n",
    "        end\n",
    "    end\n",
    "    if length(winners) == length(boards)\n",
    "        num = number\n",
    "        break\n",
    "    end\n",
    "end\n",
    "\n",
    "board, mask = boards[lastwinner], board_hits[lastwinner]\n",
    "score = sum((mask .== 0) .* board) * num\n"
   ]
  }
 ],
 "metadata": {
  "kernelspec": {
   "display_name": "Julia 1.6.3",
   "language": "julia",
   "name": "julia-1.6"
  },
  "language_info": {
   "file_extension": ".jl",
   "mimetype": "application/julia",
   "name": "julia",
   "version": "1.6.3"
  },
  "orig_nbformat": 4
 },
 "nbformat": 4,
 "nbformat_minor": 2
}
