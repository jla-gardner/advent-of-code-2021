{
 "cells": [
  {
   "cell_type": "code",
   "execution_count": 32,
   "metadata": {},
   "outputs": [],
   "source": [
    "include(\"util.jl\");"
   ]
  },
  {
   "cell_type": "markdown",
   "metadata": {},
   "source": [
    "## Day 1"
   ]
  },
  {
   "cell_type": "code",
   "execution_count": 35,
   "metadata": {},
   "outputs": [],
   "source": [
    "depths = getinput(1) |> split .|> int\n",
    "\n",
    "function count_ascending(arr)\n",
    "    (d′ > d for (d, d′) in zip(arr, arr[2:end])) |> sum\n",
    "end;"
   ]
  },
  {
   "cell_type": "code",
   "execution_count": 37,
   "metadata": {},
   "outputs": [
    {
     "name": "stdout",
     "output_type": "stream",
     "text": [
      "  0.000008 seconds (2 allocations: 15.766 KiB)\n"
     ]
    },
    {
     "data": {
      "text/plain": [
       "1532"
      ]
     },
     "metadata": {},
     "output_type": "display_data"
    }
   ],
   "source": [
    "@time count_ascending(depths)"
   ]
  },
  {
   "cell_type": "code",
   "execution_count": 38,
   "metadata": {},
   "outputs": [
    {
     "name": "stdout",
     "output_type": "stream",
     "text": [
      "  0.000011 seconds (2 allocations: 15.766 KiB)\n"
     ]
    },
    {
     "data": {
      "text/plain": [
       "1571"
      ]
     },
     "metadata": {},
     "output_type": "display_data"
    }
   ],
   "source": [
    "sums3 = (depths[i:i+2] for i ∈ 1:(length(depths)-2)) .|> sum\n",
    "@time count_ascending(sums3)"
   ]
  },
  {
   "cell_type": "markdown",
   "metadata": {},
   "source": [
    "## Day 2"
   ]
  },
  {
   "cell_type": "code",
   "execution_count": 44,
   "metadata": {},
   "outputs": [
    {
     "data": {
      "text/plain": [
       "2147104"
      ]
     },
     "metadata": {},
     "output_type": "display_data"
    }
   ],
   "source": [
    "dirs = Dict(\n",
    "    \"forward\" => [1, 0],\n",
    "    \"down\" => [0, 1],\n",
    "    \"up\" => [0, -1]\n",
    ")\n",
    "\n",
    "function parse_row(row)\n",
    "    dir, mag = split(row)\n",
    "    return dirs[dir] * int(mag)\n",
    "end\n",
    "\n",
    "commands = split(getinput(2), \"\\n\") .|> parse_row\n",
    "\n",
    "*(sum(commands)...)"
   ]
  },
  {
   "cell_type": "code",
   "execution_count": 49,
   "metadata": {},
   "outputs": [
    {
     "data": {
      "text/plain": [
       "([1832, 1116059], 2044620088)"
      ]
     },
     "metadata": {},
     "output_type": "display_data"
    }
   ],
   "source": [
    "pos = [0, 0]\n",
    "aim = 0\n",
    "\n",
    "for row in split(getinput(2), \"\\n\")\n",
    "    command, mag = split(row)\n",
    "    if command == \"forward\"\n",
    "       pos += [1, aim] * int(mag)\n",
    "    else\n",
    "        aim += (command == \"down\" ? 1 : -1) * int(mag)\n",
    "    end    \n",
    "end\n",
    "\n",
    "pos, *(pos...)"
   ]
  }
 ],
 "metadata": {
  "kernelspec": {
   "display_name": "Julia 1.6.3",
   "language": "julia",
   "name": "julia-1.6"
  },
  "language_info": {
   "file_extension": ".jl",
   "mimetype": "application/julia",
   "name": "julia",
   "version": "1.6.3"
  },
  "orig_nbformat": 4
 },
 "nbformat": 4,
 "nbformat_minor": 2
}
